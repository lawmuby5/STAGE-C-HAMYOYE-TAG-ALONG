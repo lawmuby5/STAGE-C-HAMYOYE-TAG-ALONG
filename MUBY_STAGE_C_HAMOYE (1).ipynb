{
 "cells": [
  {
   "cell_type": "markdown",
   "id": "459fd2e8-dd6a-42a6-b052-7f5202d88a2a",
   "metadata": {},
   "source": [
    "# STAGE C TAG ALONG\n"
   ]
  },
  {
   "cell_type": "code",
   "execution_count": 2,
   "id": "8f4de6ab-21a5-460b-b883-313fe35aca71",
   "metadata": {},
   "outputs": [
    {
     "name": "stdout",
     "output_type": "stream",
     "text": [
      "ALL LOADED!!\n"
     ]
    }
   ],
   "source": [
    "import pandas as pd\n",
    "import numpy as np\n",
    "import matplotlib.pyplot as plt  \n",
    "import seaborn as sns\n",
    "from sklearn.ensemble import RandomForestClassifier\n",
    "from sklearn.ensemble import ExtraTreesClassifier\n",
    "from xgboost import XGBClassifier\n",
    "from lightgbm import LGBMClassifier\n",
    "from sklearn.metrics import recall_score, classification_report, accuracy_score,precision_score,f1_score\n",
    "print(\"ALL LOADED!!\")"
   ]
  },
  {
   "cell_type": "code",
   "execution_count": 3,
   "id": "e2055348-5792-4083-a398-19575d903993",
   "metadata": {},
   "outputs": [],
   "source": [
    "dat = pd.read_csv(r\"C:\\Users\\MSI\\Downloads\\Data_for_UCI_named.csv\")"
   ]
  },
  {
   "cell_type": "code",
   "execution_count": null,
   "id": "c6b6a349-fe5e-4974-8116-6fc561e95a57",
   "metadata": {},
   "outputs": [],
   "source": []
  },
  {
   "cell_type": "code",
   "execution_count": 4,
   "id": "766b7cc9-10ea-4028-8edd-0700045ecf0d",
   "metadata": {},
   "outputs": [
    {
     "data": {
      "text/html": [
       "<div>\n",
       "<style scoped>\n",
       "    .dataframe tbody tr th:only-of-type {\n",
       "        vertical-align: middle;\n",
       "    }\n",
       "\n",
       "    .dataframe tbody tr th {\n",
       "        vertical-align: top;\n",
       "    }\n",
       "\n",
       "    .dataframe thead th {\n",
       "        text-align: right;\n",
       "    }\n",
       "</style>\n",
       "<table border=\"1\" class=\"dataframe\">\n",
       "  <thead>\n",
       "    <tr style=\"text-align: right;\">\n",
       "      <th></th>\n",
       "      <th>tau1</th>\n",
       "      <th>tau2</th>\n",
       "      <th>tau3</th>\n",
       "      <th>tau4</th>\n",
       "      <th>p1</th>\n",
       "      <th>p2</th>\n",
       "      <th>p3</th>\n",
       "      <th>p4</th>\n",
       "      <th>g1</th>\n",
       "      <th>g2</th>\n",
       "      <th>g3</th>\n",
       "      <th>g4</th>\n",
       "      <th>stab</th>\n",
       "      <th>stabf</th>\n",
       "    </tr>\n",
       "  </thead>\n",
       "  <tbody>\n",
       "    <tr>\n",
       "      <th>0</th>\n",
       "      <td>2.959060</td>\n",
       "      <td>3.079885</td>\n",
       "      <td>8.381025</td>\n",
       "      <td>9.780754</td>\n",
       "      <td>3.763085</td>\n",
       "      <td>-0.782604</td>\n",
       "      <td>-1.257395</td>\n",
       "      <td>-1.723086</td>\n",
       "      <td>0.650456</td>\n",
       "      <td>0.859578</td>\n",
       "      <td>0.887445</td>\n",
       "      <td>0.958034</td>\n",
       "      <td>0.055347</td>\n",
       "      <td>unstable</td>\n",
       "    </tr>\n",
       "    <tr>\n",
       "      <th>1</th>\n",
       "      <td>9.304097</td>\n",
       "      <td>4.902524</td>\n",
       "      <td>3.047541</td>\n",
       "      <td>1.369357</td>\n",
       "      <td>5.067812</td>\n",
       "      <td>-1.940058</td>\n",
       "      <td>-1.872742</td>\n",
       "      <td>-1.255012</td>\n",
       "      <td>0.413441</td>\n",
       "      <td>0.862414</td>\n",
       "      <td>0.562139</td>\n",
       "      <td>0.781760</td>\n",
       "      <td>-0.005957</td>\n",
       "      <td>stable</td>\n",
       "    </tr>\n",
       "    <tr>\n",
       "      <th>2</th>\n",
       "      <td>8.971707</td>\n",
       "      <td>8.848428</td>\n",
       "      <td>3.046479</td>\n",
       "      <td>1.214518</td>\n",
       "      <td>3.405158</td>\n",
       "      <td>-1.207456</td>\n",
       "      <td>-1.277210</td>\n",
       "      <td>-0.920492</td>\n",
       "      <td>0.163041</td>\n",
       "      <td>0.766689</td>\n",
       "      <td>0.839444</td>\n",
       "      <td>0.109853</td>\n",
       "      <td>0.003471</td>\n",
       "      <td>unstable</td>\n",
       "    </tr>\n",
       "    <tr>\n",
       "      <th>3</th>\n",
       "      <td>0.716415</td>\n",
       "      <td>7.669600</td>\n",
       "      <td>4.486641</td>\n",
       "      <td>2.340563</td>\n",
       "      <td>3.963791</td>\n",
       "      <td>-1.027473</td>\n",
       "      <td>-1.938944</td>\n",
       "      <td>-0.997374</td>\n",
       "      <td>0.446209</td>\n",
       "      <td>0.976744</td>\n",
       "      <td>0.929381</td>\n",
       "      <td>0.362718</td>\n",
       "      <td>0.028871</td>\n",
       "      <td>unstable</td>\n",
       "    </tr>\n",
       "    <tr>\n",
       "      <th>4</th>\n",
       "      <td>3.134112</td>\n",
       "      <td>7.608772</td>\n",
       "      <td>4.943759</td>\n",
       "      <td>9.857573</td>\n",
       "      <td>3.525811</td>\n",
       "      <td>-1.125531</td>\n",
       "      <td>-1.845975</td>\n",
       "      <td>-0.554305</td>\n",
       "      <td>0.797110</td>\n",
       "      <td>0.455450</td>\n",
       "      <td>0.656947</td>\n",
       "      <td>0.820923</td>\n",
       "      <td>0.049860</td>\n",
       "      <td>unstable</td>\n",
       "    </tr>\n",
       "  </tbody>\n",
       "</table>\n",
       "</div>"
      ],
      "text/plain": [
       "       tau1      tau2      tau3      tau4        p1        p2        p3  \\\n",
       "0  2.959060  3.079885  8.381025  9.780754  3.763085 -0.782604 -1.257395   \n",
       "1  9.304097  4.902524  3.047541  1.369357  5.067812 -1.940058 -1.872742   \n",
       "2  8.971707  8.848428  3.046479  1.214518  3.405158 -1.207456 -1.277210   \n",
       "3  0.716415  7.669600  4.486641  2.340563  3.963791 -1.027473 -1.938944   \n",
       "4  3.134112  7.608772  4.943759  9.857573  3.525811 -1.125531 -1.845975   \n",
       "\n",
       "         p4        g1        g2        g3        g4      stab     stabf  \n",
       "0 -1.723086  0.650456  0.859578  0.887445  0.958034  0.055347  unstable  \n",
       "1 -1.255012  0.413441  0.862414  0.562139  0.781760 -0.005957    stable  \n",
       "2 -0.920492  0.163041  0.766689  0.839444  0.109853  0.003471  unstable  \n",
       "3 -0.997374  0.446209  0.976744  0.929381  0.362718  0.028871  unstable  \n",
       "4 -0.554305  0.797110  0.455450  0.656947  0.820923  0.049860  unstable  "
      ]
     },
     "execution_count": 4,
     "metadata": {},
     "output_type": "execute_result"
    }
   ],
   "source": [
    "dat.head()"
   ]
  },
  {
   "cell_type": "code",
   "execution_count": 7,
   "id": "64fe5e77-2c7c-46eb-a5d6-616a8f1f6528",
   "metadata": {},
   "outputs": [],
   "source": [
    "#drop the stab column and make useof the stabf column\n",
    "data = dat.drop('stab',axis=1)"
   ]
  },
  {
   "cell_type": "code",
   "execution_count": 8,
   "id": "06cf3f78-1811-42f8-903c-761b0303845e",
   "metadata": {},
   "outputs": [],
   "source": [
    "#features and output selection\n",
    "x = data.drop(columns=[\"stabf\"])\n",
    "\n",
    "y = data['stabf'] "
   ]
  },
  {
   "cell_type": "code",
   "execution_count": 9,
   "id": "9e065689-f2f1-4c85-80c4-c63e1afdbb53",
   "metadata": {},
   "outputs": [],
   "source": [
    "#Importing the tts library\n",
    "from sklearn.model_selection import train_test_split\n",
    "x_train,x_test,y_train,y_test = train_test_split (x,y,test_size = 0.2, random_state=1)"
   ]
  },
  {
   "cell_type": "code",
   "execution_count": 16,
   "id": "090cf54c-a1c6-42d2-8fd7-1254efe01e6c",
   "metadata": {},
   "outputs": [
    {
     "name": "stdout",
     "output_type": "stream",
     "text": [
      "(8000, 12) (2000, 12)\n"
     ]
    }
   ],
   "source": [
    "#Scaling data using the require scaler library\n",
    "from sklearn.preprocessing import StandardScaler\n",
    "scaler = StandardScaler()\n",
    "norm_train_data =scaler.fit_transform(x_train)\n",
    "normalised_train_data = pd.DataFrame(norm_train_data, columns = x_train.columns)\n",
    "norm_test_data =scaler.fit_transform(x_test)\n",
    "normalised_test_data = pd.DataFrame(norm_test_data, columns = x_test.columns)\n",
    "\n",
    "print(normalised_train_data.shape,normalised_test_data.shape)"
   ]
  },
  {
   "cell_type": "markdown",
   "id": "2a86f349-2ed1-427c-8e85-b9410e88b1b4",
   "metadata": {},
   "source": [
    "\n",
    "### RandomForest Q14"
   ]
  },
  {
   "cell_type": "code",
   "execution_count": 11,
   "id": "24070fd6-1c07-476e-aaca-111db7e857e3",
   "metadata": {
    "tags": []
   },
   "outputs": [],
   "source": [
    "from sklearn.ensemble import RandomForestClassifier\n",
    "rf = RandomForestClassifier(random_state=1)\n",
    "rf.fit(normalised_train_data,y_train)\n",
    "rf_pred = rf.predict(normalised_test_data)"
   ]
  },
  {
   "cell_type": "code",
   "execution_count": 21,
   "id": "8fdbd30f-7c36-40fa-af77-c3dd4191d386",
   "metadata": {},
   "outputs": [
    {
     "name": "stdout",
     "output_type": "stream",
     "text": [
      "ACCURACY IS: 0.928\n",
      "              precision    recall  f1-score   support\n",
      "\n",
      "      stable     0.9176    0.8764    0.8966       712\n",
      "    unstable     0.9333    0.9565    0.9448      1288\n",
      "\n",
      "    accuracy                         0.9280      2000\n",
      "   macro avg     0.9255    0.9165    0.9207      2000\n",
      "weighted avg     0.9277    0.9280    0.9276      2000\n",
      "\n"
     ]
    }
   ],
   "source": [
    "#printing out the random forest classifier result\n",
    "from sklearn.metrics import accuracy_score\n",
    "from sklearn import metrics\n",
    "metriks = accuracy_score(rf_pred,y_test)\n",
    "print('ACCURACY IS:' , round(metriks ,4))\n",
    "print(classification_report(y_test,rf_pred, digits=4))\n"
   ]
  },
  {
   "cell_type": "markdown",
   "id": "f956257d-ba47-4b4f-bbf7-30d7645c8a39",
   "metadata": {},
   "source": [
    "###  EXTRA TREEs CLASSIFIER Q16"
   ]
  },
  {
   "cell_type": "code",
   "execution_count": 29,
   "id": "b86c3837-03fd-4a57-8701-88dc3b5a8938",
   "metadata": {
    "jp-MarkdownHeadingCollapsed": true,
    "tags": []
   },
   "outputs": [],
   "source": [
    "from sklearn.ensemble import ExtraTreesClassifier\n",
    "tree = ExtraTreesClassifier(random_state=1)\n",
    "tree.fit(normalised_train_data,y_train)\n",
    "tree_pred = tree.predict(normalised_test_data)"
   ]
  },
  {
   "cell_type": "code",
   "execution_count": 30,
   "id": "22750f92-695e-4a02-8202-85b72938bd80",
   "metadata": {},
   "outputs": [
    {
     "name": "stdout",
     "output_type": "stream",
     "text": [
      "              precision    recall  f1-score   support\n",
      "\n",
      "      stable     0.9406    0.8455    0.8905       712\n",
      "    unstable     0.9191    0.9705    0.9441      1288\n",
      "\n",
      "    accuracy                         0.9260      2000\n",
      "   macro avg     0.9299    0.9080    0.9173      2000\n",
      "weighted avg     0.9268    0.9260    0.9250      2000\n",
      "\n"
     ]
    }
   ],
   "source": [
    "#printing out the extra tree classifier result\n",
    "from sklearn.metrics import accuracy_score\n",
    "from sklearn.metrics import classification_report\n",
    "print(classification_report(y_test,tree_pred, digits=4))"
   ]
  },
  {
   "cell_type": "markdown",
   "id": "1cebbc96-c17e-4402-9728-e1142d22a1a1",
   "metadata": {},
   "source": [
    "##  lightgbm Q16"
   ]
  },
  {
   "cell_type": "code",
   "execution_count": 31,
   "id": "ee2d40e3-626b-4648-8d1b-5370dcb8950a",
   "metadata": {},
   "outputs": [
    {
     "name": "stdout",
     "output_type": "stream",
     "text": [
      "              precision    recall  f1-score   support\n",
      "\n",
      "      stable     0.9258    0.8933    0.9092       712\n",
      "    unstable     0.9421    0.9604    0.9512      1288\n",
      "\n",
      "    accuracy                         0.9365      2000\n",
      "   macro avg     0.9339    0.9268    0.9302      2000\n",
      "weighted avg     0.9363    0.9365    0.9362      2000\n",
      "\n"
     ]
    }
   ],
   "source": [
    "from lightgbm import LGBMClassifier\n",
    "light = LGBMClassifier(random_state=1)\n",
    "light.fit(normalised_train_data,y_train)\n",
    "light_pred = light.predict(normalised_test_data)\n",
    "print(classification_report(y_test,light_pred, digits=4))"
   ]
  },
  {
   "cell_type": "code",
   "execution_count": 32,
   "id": "88c7cb04-9539-4db9-ac4f-3cb1d660eeed",
   "metadata": {},
   "outputs": [
    {
     "name": "stdout",
     "output_type": "stream",
     "text": [
      "ACCURACY IS: 0.9365\n"
     ]
    }
   ],
   "source": [
    "# printing out the LGBM classifier result\n",
    "from sklearn.metrics import classification_report\n",
    "\n",
    "metriks = accuracy_score(light_pred,y_test)\n",
    "print('ACCURACY IS:' ,round(metriks ,4))"
   ]
  },
  {
   "cell_type": "markdown",
   "id": "a19f4e23-16c3-42f4-9c57-348325f9d262",
   "metadata": {},
   "source": [
    "# COMFUSION MATRIX Q2"
   ]
  },
  {
   "cell_type": "code",
   "execution_count": null,
   "id": "4ee22a40-69c5-4a98-9ef1-f9d86917d7c2",
   "metadata": {},
   "outputs": [],
   "source": [
    "\n",
    "#Given :\n",
    "TP = 255      \n",
    "FN = 1380     \n",
    "FP = 45       \n",
    "TN = 20       \n",
    "\n",
    "#Recall calculation\n",
    "Recall = TP/(TP+FN)\n",
    "\n",
    "#precision calculation\n",
    "Precision = TP/(TP+FP)\n",
    "\n",
    "# F1 score is calculated by this formula:\n",
    "F1_Score = (2 * ((Recall*Precision)/(Recall+Precision)))\n",
    "\n",
    "\n",
    "print(\"The F1 score of this confusion matrix= {} \".format(round(F1_Score,4)))\n"
   ]
  },
  {
   "cell_type": "markdown",
   "id": "f431afb2-a3df-4c0d-ad07-5da68a83393d",
   "metadata": {
    "tags": []
   },
   "source": [
    "# EXTRATREEECLASSIFIER Q17"
   ]
  },
  {
   "cell_type": "code",
   "execution_count": 33,
   "id": "dbc808f4-3b8e-49b1-9ad7-506c74d2bc37",
   "metadata": {},
   "outputs": [
    {
     "name": "stdout",
     "output_type": "stream",
     "text": [
      "Fitting 5 folds for each of 10 candidates, totalling 50 fits\n"
     ]
    },
    {
     "data": {
      "text/plain": [
       "{'n_estimators': 1000,\n",
       " 'min_samples_split': 2,\n",
       " 'min_samples_leaf': 8,\n",
       " 'max_features': None}"
      ]
     },
     "execution_count": 33,
     "metadata": {},
     "output_type": "execute_result"
    }
   ],
   "source": [
    "n_estimators = [50,100,300,500,1000]\n",
    "min_samples_split = [2,3,5,7,9]\n",
    "min_samples_leaf = [1,2,4,6,8]\n",
    "max_features = ['auto','sqrt','log2',None]\n",
    "hyperparameter_grid = {'n_estimators': n_estimators,\n",
    "                    'min_samples_leaf': min_samples_leaf,\n",
    "                       'min_samples_split': min_samples_split,\n",
    "                    'max_features': max_features}\n",
    "\n",
    "from sklearn.model_selection import RandomizedSearchCV\n",
    "RSV =  RandomizedSearchCV(estimator= tree,param_distributions=hyperparameter_grid, cv=5,scoring='accuracy',n_iter=10, n_jobs=-1, verbose=1,random_state=1)\n",
    "search = RSV.fit(normalised_train_data, y_train)\n",
    "search.best_params_"
   ]
  },
  {
   "cell_type": "markdown",
   "id": "73ac5fd3-99c8-48a9-8563-29e434b05191",
   "metadata": {},
   "source": [
    "# XGBOOST Q15 HAD ISSUES RUNNING MY XG-BOOST KEEPS SAYING \"ValueError: Invalid classes inferred from unique values of `y`.  Expected: [0 1], got ['stable' 'unstable']\"  \n",
    "## BUT INITIALLY I RAN IT AND I GOT 0,9195\n"
   ]
  },
  {
   "cell_type": "code",
   "execution_count": 43,
   "id": "f3ed3405-e447-4812-a094-7078089efb72",
   "metadata": {},
   "outputs": [
    {
     "ename": "ValueError",
     "evalue": "Invalid classes inferred from unique values of `y`.  Expected: [0 1], got ['stable' 'unstable']",
     "output_type": "error",
     "traceback": [
      "\u001b[1;31m---------------------------------------------------------------------------\u001b[0m",
      "\u001b[1;31mValueError\u001b[0m                                Traceback (most recent call last)",
      "Input \u001b[1;32mIn [43]\u001b[0m, in \u001b[0;36m<cell line: 3>\u001b[1;34m()\u001b[0m\n\u001b[0;32m      1\u001b[0m \u001b[38;5;28;01mfrom\u001b[39;00m \u001b[38;5;21;01mxgboost\u001b[39;00m \u001b[38;5;28;01mimport\u001b[39;00m XGBClassifier\n\u001b[0;32m      2\u001b[0m xgb \u001b[38;5;241m=\u001b[39m XGBClassifier(random_state\u001b[38;5;241m=\u001b[39m\u001b[38;5;241m1\u001b[39m)\n\u001b[1;32m----> 3\u001b[0m \u001b[43mxgb\u001b[49m\u001b[38;5;241;43m.\u001b[39;49m\u001b[43mfit\u001b[49m\u001b[43m(\u001b[49m\u001b[43mnormalised_train_data\u001b[49m\u001b[43m,\u001b[49m\u001b[43m \u001b[49m\u001b[43my_train\u001b[49m\u001b[43m)\u001b[49m\n\u001b[0;32m      4\u001b[0m xgb_pred \u001b[38;5;241m=\u001b[39m xgb\u001b[38;5;241m.\u001b[39mpredict(normalised_test_data)\n\u001b[0;32m      5\u001b[0m \u001b[38;5;28mprint\u001b[39m(accuracy_score(xgb_pred,y_test,digits\u001b[38;5;241m=\u001b[39m\u001b[38;5;241m4\u001b[39m))\n",
      "File \u001b[1;32m~\\AppData\\Roaming\\Python\\Python39\\site-packages\\xgboost\\core.py:575\u001b[0m, in \u001b[0;36m_deprecate_positional_args.<locals>.inner_f\u001b[1;34m(*args, **kwargs)\u001b[0m\n\u001b[0;32m    573\u001b[0m \u001b[38;5;28;01mfor\u001b[39;00m k, arg \u001b[38;5;129;01min\u001b[39;00m \u001b[38;5;28mzip\u001b[39m(sig\u001b[38;5;241m.\u001b[39mparameters, args):\n\u001b[0;32m    574\u001b[0m     kwargs[k] \u001b[38;5;241m=\u001b[39m arg\n\u001b[1;32m--> 575\u001b[0m \u001b[38;5;28;01mreturn\u001b[39;00m f(\u001b[38;5;241m*\u001b[39m\u001b[38;5;241m*\u001b[39mkwargs)\n",
      "File \u001b[1;32m~\\AppData\\Roaming\\Python\\Python39\\site-packages\\xgboost\\sklearn.py:1357\u001b[0m, in \u001b[0;36mXGBClassifier.fit\u001b[1;34m(self, X, y, sample_weight, base_margin, eval_set, eval_metric, early_stopping_rounds, verbose, xgb_model, sample_weight_eval_set, base_margin_eval_set, feature_weights, callbacks)\u001b[0m\n\u001b[0;32m   1352\u001b[0m     expected_classes \u001b[38;5;241m=\u001b[39m np\u001b[38;5;241m.\u001b[39marange(\u001b[38;5;28mself\u001b[39m\u001b[38;5;241m.\u001b[39mn_classes_)\n\u001b[0;32m   1353\u001b[0m \u001b[38;5;28;01mif\u001b[39;00m (\n\u001b[0;32m   1354\u001b[0m     \u001b[38;5;28mself\u001b[39m\u001b[38;5;241m.\u001b[39mclasses_\u001b[38;5;241m.\u001b[39mshape \u001b[38;5;241m!=\u001b[39m expected_classes\u001b[38;5;241m.\u001b[39mshape\n\u001b[0;32m   1355\u001b[0m     \u001b[38;5;129;01mor\u001b[39;00m \u001b[38;5;129;01mnot\u001b[39;00m (\u001b[38;5;28mself\u001b[39m\u001b[38;5;241m.\u001b[39mclasses_ \u001b[38;5;241m==\u001b[39m expected_classes)\u001b[38;5;241m.\u001b[39mall()\n\u001b[0;32m   1356\u001b[0m ):\n\u001b[1;32m-> 1357\u001b[0m     \u001b[38;5;28;01mraise\u001b[39;00m \u001b[38;5;167;01mValueError\u001b[39;00m(\n\u001b[0;32m   1358\u001b[0m         \u001b[38;5;124mf\u001b[39m\u001b[38;5;124m\"\u001b[39m\u001b[38;5;124mInvalid classes inferred from unique values of `y`.  \u001b[39m\u001b[38;5;124m\"\u001b[39m\n\u001b[0;32m   1359\u001b[0m         \u001b[38;5;124mf\u001b[39m\u001b[38;5;124m\"\u001b[39m\u001b[38;5;124mExpected: \u001b[39m\u001b[38;5;132;01m{\u001b[39;00mexpected_classes\u001b[38;5;132;01m}\u001b[39;00m\u001b[38;5;124m, got \u001b[39m\u001b[38;5;132;01m{\u001b[39;00m\u001b[38;5;28mself\u001b[39m\u001b[38;5;241m.\u001b[39mclasses_\u001b[38;5;132;01m}\u001b[39;00m\u001b[38;5;124m\"\u001b[39m\n\u001b[0;32m   1360\u001b[0m     )\n\u001b[0;32m   1362\u001b[0m params \u001b[38;5;241m=\u001b[39m \u001b[38;5;28mself\u001b[39m\u001b[38;5;241m.\u001b[39mget_xgb_params()\n\u001b[0;32m   1364\u001b[0m \u001b[38;5;28;01mif\u001b[39;00m callable(\u001b[38;5;28mself\u001b[39m\u001b[38;5;241m.\u001b[39mobjective):\n",
      "\u001b[1;31mValueError\u001b[0m: Invalid classes inferred from unique values of `y`.  Expected: [0 1], got ['stable' 'unstable']"
     ]
    }
   ],
   "source": [
    "from xgboost import XGBClassifier\n",
    "xgb = XGBClassifier(random_state=1)\n",
    "xgb.fit(normalised_train_data, y_train)\n",
    "xgb_pred = xgb.predict(normalised_test_data)\n",
    "print(accuracy_score(xgb_pred,y_test,digits=4))"
   ]
  },
  {
   "cell_type": "markdown",
   "id": "ce8bfbb4-4c7e-4c5b-a8f5-4c1e1a295ceb",
   "metadata": {},
   "source": [
    "# question 18"
   ]
  },
  {
   "cell_type": "markdown",
   "id": "4b366238-f3ac-497f-bee8-83e89091dca6",
   "metadata": {},
   "source": [
    "## My_Answer = Lower \"\"f1-Extratreeclassifier is < than value of f1-{tree_best}\"\""
   ]
  },
  {
   "cell_type": "markdown",
   "id": "f6ad2cae-9295-4538-a03e-83ecfab33ada",
   "metadata": {},
   "source": [
    "\n",
    "<!-- My_Answer = Lower because, tree_accuracy = 0.9280 and tree_best_accuracy = 0.9270 and taking the difference we have 0.001. Thus its best not to tune paramaters when accuracy is high -->\n"
   ]
  },
  {
   "cell_type": "code",
   "execution_count": 42,
   "id": "f7731d6f-2668-4244-bb68-77f791cb6e0d",
   "metadata": {},
   "outputs": [
    {
     "name": "stdout",
     "output_type": "stream",
     "text": [
      "              precision    recall  f1-score   support\n",
      "\n",
      "      stable     0.9253    0.8694    0.8965       712\n",
      "    unstable     0.9301    0.9612    0.9454      1288\n",
      "\n",
      "    accuracy                         0.9285      2000\n",
      "   macro avg     0.9277    0.9153    0.9209      2000\n",
      "weighted avg     0.9284    0.9285    0.9280      2000\n",
      "\n"
     ]
    }
   ],
   "source": [
    "tree_best = ExtraTreesClassifier(**search.best_params_, random_state=1)\n",
    "tree_best.fit(normalised_train_data,y_train)\n",
    "tree_pred = tree_best.predict(normalised_test_data)\n",
    "print(classification_report(y_test,tree_pred,digits=4))\n",
    "\n",
    "\n"
   ]
  },
  {
   "cell_type": "markdown",
   "id": "d37cf5da-7ad2-456a-a5d2-fa3723bbb85e",
   "metadata": {},
   "source": [
    "# question 20"
   ]
  },
  {
   "cell_type": "code",
   "execution_count": 40,
   "id": "2effd9ea-bcfb-4c65-9c1e-db611a950098",
   "metadata": {},
   "outputs": [
    {
     "data": {
      "text/html": [
       "<div>\n",
       "<style scoped>\n",
       "    .dataframe tbody tr th:only-of-type {\n",
       "        vertical-align: middle;\n",
       "    }\n",
       "\n",
       "    .dataframe tbody tr th {\n",
       "        vertical-align: top;\n",
       "    }\n",
       "\n",
       "    .dataframe thead th {\n",
       "        text-align: right;\n",
       "    }\n",
       "</style>\n",
       "<table border=\"1\" class=\"dataframe\">\n",
       "  <thead>\n",
       "    <tr style=\"text-align: right;\">\n",
       "      <th></th>\n",
       "      <th>Features</th>\n",
       "      <th>Feature_Importance</th>\n",
       "    </tr>\n",
       "  </thead>\n",
       "  <tbody>\n",
       "    <tr>\n",
       "      <th>0</th>\n",
       "      <td>p1</td>\n",
       "      <td>0.003683</td>\n",
       "    </tr>\n",
       "    <tr>\n",
       "      <th>1</th>\n",
       "      <td>p4</td>\n",
       "      <td>0.004962</td>\n",
       "    </tr>\n",
       "    <tr>\n",
       "      <th>2</th>\n",
       "      <td>p2</td>\n",
       "      <td>0.005337</td>\n",
       "    </tr>\n",
       "    <tr>\n",
       "      <th>3</th>\n",
       "      <td>p3</td>\n",
       "      <td>0.005429</td>\n",
       "    </tr>\n",
       "    <tr>\n",
       "      <th>4</th>\n",
       "      <td>g1</td>\n",
       "      <td>0.102562</td>\n",
       "    </tr>\n",
       "    <tr>\n",
       "      <th>5</th>\n",
       "      <td>g2</td>\n",
       "      <td>0.107578</td>\n",
       "    </tr>\n",
       "    <tr>\n",
       "      <th>6</th>\n",
       "      <td>g4</td>\n",
       "      <td>0.109541</td>\n",
       "    </tr>\n",
       "    <tr>\n",
       "      <th>7</th>\n",
       "      <td>g3</td>\n",
       "      <td>0.113063</td>\n",
       "    </tr>\n",
       "    <tr>\n",
       "      <th>8</th>\n",
       "      <td>tau3</td>\n",
       "      <td>0.134680</td>\n",
       "    </tr>\n",
       "    <tr>\n",
       "      <th>9</th>\n",
       "      <td>tau4</td>\n",
       "      <td>0.135417</td>\n",
       "    </tr>\n",
       "    <tr>\n",
       "      <th>10</th>\n",
       "      <td>tau1</td>\n",
       "      <td>0.137240</td>\n",
       "    </tr>\n",
       "    <tr>\n",
       "      <th>11</th>\n",
       "      <td>tau2</td>\n",
       "      <td>0.140508</td>\n",
       "    </tr>\n",
       "  </tbody>\n",
       "</table>\n",
       "</div>"
      ],
      "text/plain": [
       "   Features  Feature_Importance\n",
       "0        p1            0.003683\n",
       "1        p4            0.004962\n",
       "2        p2            0.005337\n",
       "3        p3            0.005429\n",
       "4        g1            0.102562\n",
       "5        g2            0.107578\n",
       "6        g4            0.109541\n",
       "7        g3            0.113063\n",
       "8      tau3            0.134680\n",
       "9      tau4            0.135417\n",
       "10     tau1            0.137240\n",
       "11     tau2            0.140508"
      ]
     },
     "execution_count": 40,
     "metadata": {},
     "output_type": "execute_result"
    }
   ],
   "source": [
    "def get_feature_importance(model,feat,col_name):\n",
    "    importance = pd.Series(model.feature_importances_,feat.columns).sort_values()\n",
    "    importance_df = pd.DataFrame(importance).reset_index()\n",
    "    importance_df.columns = ['Features',col_name]\n",
    "    importance_df[col_name].round(3)\n",
    "    return importance_df\n",
    "\n",
    "\n",
    "feature_importance = get_feature_importance(tree_best, normalised_train_data,'Feature_Importance')\n",
    "feature_importance\n",
    "\n"
   ]
  },
  {
   "cell_type": "markdown",
   "id": "f3e213a4-0e29-4752-a657-170e15afd826",
   "metadata": {},
   "source": [
    "# from inspection we see that TAU1 and P1 is the highest and lowest value consecutively"
   ]
  }
 ],
 "metadata": {
  "kernelspec": {
   "display_name": "Python 3 (ipykernel)",
   "language": "python",
   "name": "python3"
  },
  "language_info": {
   "codemirror_mode": {
    "name": "ipython",
    "version": 3
   },
   "file_extension": ".py",
   "mimetype": "text/x-python",
   "name": "python",
   "nbconvert_exporter": "python",
   "pygments_lexer": "ipython3",
   "version": "3.9.12"
  }
 },
 "nbformat": 4,
 "nbformat_minor": 5
}
